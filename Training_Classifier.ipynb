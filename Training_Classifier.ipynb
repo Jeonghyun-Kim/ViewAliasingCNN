{
 "cells": [
  {
   "cell_type": "code",
   "execution_count": 1,
   "metadata": {},
   "outputs": [
    {
     "name": "stderr",
     "output_type": "stream",
     "text": [
      "Using TensorFlow backend.\n"
     ]
    }
   ],
   "source": [
    "from __future__ import print_function\n",
    "import keras\n",
    "from keras.preprocessing.image import ImageDataGenerator\n",
    "import numpy as np\n",
    "from keras.models import model_from_json\n",
    "from keras.models import load_model, Sequential\n",
    "from scipy import io\n",
    "import models\n",
    "from keras.layers import Activation, BatchNormalization, Conv2D, Conv2DTranspose, Input, concatenate, add, MaxPooling2D, UpSampling2D, Dense, Flatten"
   ]
  },
  {
   "cell_type": "code",
   "execution_count": 2,
   "metadata": {
    "collapsed": true
   },
   "outputs": [],
   "source": [
    "train_X = np.load('output_train_longi_v1.0.npy')\n",
    "train_X = train_X[:, 112:144, 112:144, :]\n",
    "\n",
    "size = int(train_X.shape[0]/2)\n",
    "train_Y = np.concatenate((np.zeros((1, size)), np.ones((1, size))), axis=1)\n",
    "train_Y = keras.utils.to_categorical(train_Y, 2)\n",
    "\n",
    "# train_X = train_X.astype('float32')\n",
    "# train_Y = train_Y.astype('float32')"
   ]
  },
  {
   "cell_type": "code",
   "execution_count": 3,
   "metadata": {},
   "outputs": [
    {
     "name": "stdout",
     "output_type": "stream",
     "text": [
      "[[ 1.  0.]\n",
      " [ 1.  0.]\n",
      " [ 1.  0.]\n",
      " ..., \n",
      " [ 0.  1.]\n",
      " [ 0.  1.]\n",
      " [ 0.  1.]]\n"
     ]
    }
   ],
   "source": [
    "print(train_Y)"
   ]
  },
  {
   "cell_type": "code",
   "execution_count": 4,
   "metadata": {
    "collapsed": true
   },
   "outputs": [],
   "source": [
    "batch_size = 1\n",
    "epochs = 40\n",
    "fine_tuning = False\n",
    "load_model_name = ''\n",
    "epoch_to_start = 0\n",
    "\n",
    "save_temp_model_name = 'D://Models2/temp.h'"
   ]
  },
  {
   "cell_type": "code",
   "execution_count": 5,
   "metadata": {
    "collapsed": true
   },
   "outputs": [],
   "source": [
    "model_name = 'D://Models2/classify_longi_v1.0.h5'"
   ]
  },
  {
   "cell_type": "code",
   "execution_count": 6,
   "metadata": {},
   "outputs": [
    {
     "name": "stdout",
     "output_type": "stream",
     "text": [
      "x_train shape: (3000, 256, 256, 1)\n",
      "3000 train samples\n"
     ]
    }
   ],
   "source": [
    "## The data, shuffled and split between train and test sets:\n",
    "print('x_train shape:', train_X.shape)\n",
    "print(train_X.shape[0], 'train samples')"
   ]
  },
  {
   "cell_type": "code",
   "execution_count": 7,
   "metadata": {
    "scrolled": false
   },
   "outputs": [
    {
     "name": "stdout",
     "output_type": "stream",
     "text": [
      "Start fresh\n",
      "_________________________________________________________________\n",
      "Layer (type)                 Output Shape              Param #   \n",
      "=================================================================\n",
      "model_1 (Model)              (None, 256, 256, 1)       5518593   \n",
      "_________________________________________________________________\n",
      "flatten_1 (Flatten)          (None, 65536)             0         \n",
      "_________________________________________________________________\n",
      "dense_1 (Dense)              (None, 32)                2097184   \n",
      "_________________________________________________________________\n",
      "activation_24 (Activation)   (None, 32)                0         \n",
      "_________________________________________________________________\n",
      "dense_2 (Dense)              (None, 2)                 66        \n",
      "_________________________________________________________________\n",
      "activation_25 (Activation)   (None, 2)                 0         \n",
      "=================================================================\n",
      "Total params: 7,615,843\n",
      "Trainable params: 7,608,931\n",
      "Non-trainable params: 6,912\n",
      "_________________________________________________________________\n"
     ]
    }
   ],
   "source": [
    "if fine_tuning:\n",
    "    print('Loading the saved model')\n",
    "    model = load_model(load_model_name)\n",
    "    model.summary()\n",
    "\n",
    "else:\n",
    "    print('Start fresh')\n",
    "    \n",
    "    model = models.CNNClassifier(32, input_shape=train_X.shape[1:])\n",
    "\n",
    "    opt = keras.optimizers.Adam(lr=0.01)\n",
    "\n",
    "    model.compile(loss='mean_squared_error', optimizer=opt)\n",
    "    \n",
    "    model.summary()"
   ]
  },
  {
   "cell_type": "code",
   "execution_count": 8,
   "metadata": {
    "scrolled": false
   },
   "outputs": [
    {
     "name": "stdout",
     "output_type": "stream",
     "text": [
      "Epoch 1/40\n",
      "3000/3000 [==============================] - 176s - loss: 0.5000   \n",
      "Epoch 2/40\n",
      "3000/3000 [==============================] - 172s - loss: 0.5000   \n",
      "Epoch 3/40\n",
      "3000/3000 [==============================] - 170s - loss: 0.5000   \n",
      "Epoch 4/40\n",
      "3000/3000 [==============================] - 169s - loss: 0.5000   \n",
      "Epoch 5/40\n",
      "3000/3000 [==============================] - 171s - loss: 0.5000   \n",
      "Epoch 6/40\n",
      "3000/3000 [==============================] - 170s - loss: 0.5000   \n",
      "Epoch 7/40\n",
      "3000/3000 [==============================] - 171s - loss: 0.5000   \n",
      "Epoch 8/40\n",
      "3000/3000 [==============================] - 171s - loss: 0.5000   \n",
      "Epoch 9/40\n",
      "3000/3000 [==============================] - 171s - loss: 0.5000   \n",
      "Epoch 10/40\n",
      "3000/3000 [==============================] - 171s - loss: 0.5000   \n",
      "Epoch 11/40\n",
      "3000/3000 [==============================] - 171s - loss: 0.5000   \n",
      "Epoch 12/40\n",
      "3000/3000 [==============================] - 171s - loss: 0.5000   \n",
      "Epoch 13/40\n",
      "3000/3000 [==============================] - 171s - loss: 0.5000   \n",
      "Epoch 14/40\n",
      "3000/3000 [==============================] - 171s - loss: 0.5000   \n",
      "Epoch 15/40\n",
      "3000/3000 [==============================] - 172s - loss: 0.5000   \n",
      "Epoch 16/40\n",
      "3000/3000 [==============================] - 171s - loss: 0.5000   \n",
      "Epoch 17/40\n",
      "3000/3000 [==============================] - 171s - loss: 0.5000   \n",
      "Epoch 18/40\n",
      "3000/3000 [==============================] - 171s - loss: 0.5000   \n",
      "Epoch 19/40\n",
      "3000/3000 [==============================] - 171s - loss: 0.5000   \n",
      "Epoch 20/40\n",
      "3000/3000 [==============================] - 172s - loss: 0.5000   \n",
      "Epoch 21/40\n",
      "3000/3000 [==============================] - 171s - loss: 0.5000   \n",
      "Epoch 22/40\n",
      "3000/3000 [==============================] - 171s - loss: 0.5000   \n",
      "Epoch 23/40\n",
      "3000/3000 [==============================] - 172s - loss: 0.5000   \n",
      "Epoch 24/40\n",
      "3000/3000 [==============================] - 172s - loss: 0.5000   \n",
      "Epoch 25/40\n",
      "3000/3000 [==============================] - 172s - loss: 0.5000   \n",
      "Epoch 26/40\n",
      "3000/3000 [==============================] - 170s - loss: 0.5000   \n",
      "Epoch 27/40\n",
      "3000/3000 [==============================] - 169s - loss: 0.5000   \n",
      "Epoch 28/40\n",
      "3000/3000 [==============================] - 170s - loss: 0.5000   \n",
      "Epoch 29/40\n",
      "3000/3000 [==============================] - 169s - loss: 0.5000   \n",
      "Epoch 30/40\n",
      "3000/3000 [==============================] - 169s - loss: 0.5000   \n",
      "Epoch 31/40\n",
      "3000/3000 [==============================] - 169s - loss: 0.5000   \n",
      "Epoch 32/40\n",
      "3000/3000 [==============================] - 171s - loss: 0.5000   \n",
      "Epoch 33/40\n",
      "3000/3000 [==============================] - 171s - loss: 0.5000   \n",
      "Epoch 34/40\n",
      "3000/3000 [==============================] - 171s - loss: 0.5000   \n",
      "Epoch 35/40\n",
      "3000/3000 [==============================] - 170s - loss: 0.5000   \n",
      "Epoch 36/40\n",
      "3000/3000 [==============================] - 171s - loss: 0.5000   \n",
      "Epoch 37/40\n",
      "3000/3000 [==============================] - 170s - loss: 0.5000   \n",
      "Epoch 38/40\n",
      "3000/3000 [==============================] - 171s - loss: 0.5000   \n",
      "Epoch 39/40\n",
      "3000/3000 [==============================] - 171s - loss: 0.5000   \n",
      "Epoch 40/40\n",
      "3000/3000 [==============================] - 171s - loss: 0.5000   \n"
     ]
    }
   ],
   "source": [
    "## Not using data augmentation.\n",
    "\n",
    "# lrScheduling = keras.callbacks.ReduceLROnPlateau(monitor='loss',\n",
    "#                                                  factor=0.5, patience=0, verbose=1, \n",
    "#                                                  mode='auto', epsilon=0.0000001, \n",
    "#                                                  cooldown=0, min_lr=0.0001)\n",
    "# check_point = keras.callbacks.ModelCheckpoint(save_temp_model_name, \n",
    "#                                               monitor='loss', verbose=0, \n",
    "#                                               save_best_only=True, save_weights_only=False, \n",
    "#                                               mode='auto', period=1)\n",
    "history = model.fit(train_X, train_Y,\n",
    "          batch_size=batch_size,\n",
    "          epochs=epochs,\n",
    "          shuffle=True,\n",
    "          initial_epoch=epoch_to_start\n",
    "#           ,callbacks = [lrScheduling, check_point]\n",
    "          )\n",
    "    \n",
    "np.save(model_name + '.npy', history.history)\n",
    "model.save(model_name)"
   ]
  },
  {
   "cell_type": "code",
   "execution_count": null,
   "metadata": {
    "collapsed": true
   },
   "outputs": [],
   "source": []
  }
 ],
 "metadata": {
  "kernelspec": {
   "display_name": "Python 3",
   "language": "python",
   "name": "python3"
  },
  "language_info": {
   "codemirror_mode": {
    "name": "ipython",
    "version": 3
   },
   "file_extension": ".py",
   "mimetype": "text/x-python",
   "name": "python",
   "nbconvert_exporter": "python",
   "pygments_lexer": "ipython3",
   "version": "3.5.3"
  }
 },
 "nbformat": 4,
 "nbformat_minor": 2
}
